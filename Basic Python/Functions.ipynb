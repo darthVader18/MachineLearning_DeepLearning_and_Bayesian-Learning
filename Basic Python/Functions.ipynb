{
 "cells": [
  {
   "cell_type": "code",
   "execution_count": 1,
   "id": "363156b3",
   "metadata": {},
   "outputs": [],
   "source": [
    "def addone(a):\n",
    "    print(\"hello\")\n",
    "    return a + 1"
   ]
  },
  {
   "cell_type": "code",
   "execution_count": 2,
   "id": "8c5f8d29",
   "metadata": {},
   "outputs": [
    {
     "name": "stdout",
     "output_type": "stream",
     "text": [
      "hello\n"
     ]
    },
    {
     "data": {
      "text/plain": [
       "3"
      ]
     },
     "execution_count": 2,
     "metadata": {},
     "output_type": "execute_result"
    }
   ],
   "source": [
    "answer = addone(2)\n",
    "answer"
   ]
  },
  {
   "cell_type": "code",
   "execution_count": 21,
   "id": "26822d25",
   "metadata": {},
   "outputs": [],
   "source": [
    "def addone(a):\n",
    "    # print(a)\n",
    "    return (a + 1, a + 2, a+3, a**2) #touple"
   ]
  },
  {
   "cell_type": "code",
   "execution_count": 4,
   "id": "f50b1afa",
   "metadata": {},
   "outputs": [
    {
     "data": {
      "text/plain": [
       "(2, 3, 4, 1)"
      ]
     },
     "execution_count": 4,
     "metadata": {},
     "output_type": "execute_result"
    }
   ],
   "source": [
    "b = 1\n",
    "addone(b)"
   ]
  },
  {
   "cell_type": "markdown",
   "id": "dfa55bf3",
   "metadata": {},
   "source": [
    "Lambda\n",
    "A lambda function is a small anonymous function.\n",
    "A lambda function can take any number of arguments, but can only have one expression."
   ]
  },
  {
   "cell_type": "code",
   "execution_count": 5,
   "id": "2404184a",
   "metadata": {},
   "outputs": [],
   "source": [
    "addone = lambda x: x+1"
   ]
  },
  {
   "cell_type": "code",
   "execution_count": 6,
   "id": "88f5f4dd",
   "metadata": {},
   "outputs": [
    {
     "data": {
      "text/plain": [
       "4.5"
      ]
     },
     "execution_count": 6,
     "metadata": {},
     "output_type": "execute_result"
    }
   ],
   "source": [
    "addone(3.5)"
   ]
  },
  {
   "cell_type": "code",
   "execution_count": 7,
   "id": "aefdfe7f",
   "metadata": {},
   "outputs": [
    {
     "data": {
      "text/plain": [
       "25"
      ]
     },
     "execution_count": 7,
     "metadata": {},
     "output_type": "execute_result"
    }
   ],
   "source": [
    "squaring = lambda x: x**2\n",
    "squaring(5)"
   ]
  },
  {
   "cell_type": "code",
   "execution_count": 8,
   "id": "a871a485",
   "metadata": {},
   "outputs": [
    {
     "data": {
      "text/plain": [
       "(25, 36)"
      ]
     },
     "execution_count": 8,
     "metadata": {},
     "output_type": "execute_result"
    }
   ],
   "source": [
    "squaring = lambda x, y: (x**2, y**2)\n",
    "squaring(5, 6)"
   ]
  },
  {
   "cell_type": "markdown",
   "id": "f42088fc",
   "metadata": {},
   "source": [
    "Numpy"
   ]
  },
  {
   "cell_type": "code",
   "execution_count": 13,
   "id": "575a5b59",
   "metadata": {},
   "outputs": [],
   "source": [
    "import numpy as np"
   ]
  },
  {
   "cell_type": "code",
   "execution_count": 14,
   "id": "d1a32904",
   "metadata": {},
   "outputs": [
    {
     "data": {
      "text/plain": [
       "[1, 2, 3, 4, 5, 6]"
      ]
     },
     "execution_count": 14,
     "metadata": {},
     "output_type": "execute_result"
    }
   ],
   "source": [
    "a = [1,2,3]\n",
    "b = [4, 5, 6]\n",
    "a + b"
   ]
  },
  {
   "cell_type": "code",
   "execution_count": 15,
   "id": "29109e08",
   "metadata": {},
   "outputs": [
    {
     "data": {
      "text/plain": [
       "array([5, 7, 9])"
      ]
     },
     "execution_count": 15,
     "metadata": {},
     "output_type": "execute_result"
    }
   ],
   "source": [
    "a = np.array(a)\n",
    "b = np.array(b)\n",
    "a + b"
   ]
  },
  {
   "cell_type": "code",
   "execution_count": 23,
   "id": "992180fc",
   "metadata": {},
   "outputs": [],
   "source": [
    "import numpy as np\n",
    "def euclidean_distance(x, y): \n",
    "    \"\"\"\n",
    "    Euclidean distance is the shortest between the 2 points irrespective of the dimensions.\n",
    "    sqrt((x_1 - y_1)^2 + ... + (x_N - y_N)^2)\n",
    "    \"\"\"\n",
    "    # assert len(x) == len(y), \"dimension mismatch\"\n",
    "    d = [a-b for a,b in zip(x,y)]\n",
    "    \"\"\"\n",
    "    The zip() function returns a zip object, which is an iterator of tuples where the first item in each passed iterator \n",
    "    is paired together, and then the second item in each passed iterator are paired together etc.\n",
    "    If the passed iterators have different lengths, the iterator with the least items decides the length of the new iterator.\n",
    "    \"\"\"\n",
    "    d = [np.square(e) for e in d]\n",
    "    return np.sqrt(sum(d))"
   ]
  },
  {
   "cell_type": "code",
   "execution_count": 17,
   "id": "713b03a8",
   "metadata": {},
   "outputs": [],
   "source": [
    "def euclidean_distance(x, y):\n",
    "    \"\"\"\n",
    "    sqrt((x_1 - y_1)^2 + ... + (x_N - y_N)^2)\n",
    "    \"\"\"\n",
    "    # assert len(x) == len(y), \"dimension mismatch\"\n",
    "    d = [a-b for a,b in zip(x,y)]\n",
    "    d = [e**2 for e in d]\n",
    "    return sum(d) ** 0.5"
   ]
  },
  {
   "cell_type": "code",
   "execution_count": 18,
   "id": "210978a1",
   "metadata": {},
   "outputs": [
    {
     "data": {
      "text/plain": [
       "5.196152422706632"
      ]
     },
     "execution_count": 18,
     "metadata": {},
     "output_type": "execute_result"
    }
   ],
   "source": [
    "x = [1, 2, 3]\n",
    "y = [4, 5, 6]\n",
    "euclidean_distance(x, y)"
   ]
  },
  {
   "cell_type": "code",
   "execution_count": 31,
   "id": "f0fdd22c",
   "metadata": {},
   "outputs": [],
   "source": [
    "def euclidean_distance(x, y):\n",
    "    \"\"\"\n",
    "    sqrt((x_1 - y_1)^2 + ... + (x_N - y_N)^2)\n",
    "    \"\"\"\n",
    "    #breakpoint()\n",
    "    #import pdb; pdb.set_trace()\n",
    "    d = x - y\n",
    "    d = np.square(d)\n",
    "    return np.sqrt(d.sum())\n",
    "    #return np.sqrt(((x-y)**2).sum())"
   ]
  },
  {
   "cell_type": "code",
   "execution_count": 32,
   "id": "875780d1",
   "metadata": {},
   "outputs": [
    {
     "data": {
      "text/plain": [
       "5.196152422706632"
      ]
     },
     "execution_count": 32,
     "metadata": {},
     "output_type": "execute_result"
    }
   ],
   "source": [
    "x = np.array([1, 2, 3])\n",
    "y = np.array([4, 5, 6])\n",
    "euclidean_distance(x, y)"
   ]
  },
  {
   "cell_type": "code",
   "execution_count": null,
   "id": "4b39a99c",
   "metadata": {},
   "outputs": [],
   "source": []
  }
 ],
 "metadata": {
  "kernelspec": {
   "display_name": "Python 3 (ipykernel)",
   "language": "python",
   "name": "python3"
  },
  "language_info": {
   "codemirror_mode": {
    "name": "ipython",
    "version": 3
   },
   "file_extension": ".py",
   "mimetype": "text/x-python",
   "name": "python",
   "nbconvert_exporter": "python",
   "pygments_lexer": "ipython3",
   "version": "3.9.6"
  }
 },
 "nbformat": 4,
 "nbformat_minor": 5
}
