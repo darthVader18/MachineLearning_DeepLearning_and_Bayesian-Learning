{
 "cells": [
  {
   "cell_type": "code",
   "execution_count": 1,
   "id": "45d21692",
   "metadata": {},
   "outputs": [],
   "source": [
    "e = {'a':1, 'b':2, 'dog':'best'}"
   ]
  },
  {
   "cell_type": "code",
   "execution_count": 2,
   "id": "e70e335d",
   "metadata": {},
   "outputs": [
    {
     "data": {
      "text/plain": [
       "2"
      ]
     },
     "execution_count": 2,
     "metadata": {},
     "output_type": "execute_result"
    }
   ],
   "source": [
    "e[\"b\"]"
   ]
  },
  {
   "cell_type": "code",
   "execution_count": 3,
   "id": "f1a465f7",
   "metadata": {},
   "outputs": [],
   "source": [
    "password_dict = {\"password1\":\"abc\", \"password2\": \"dce\"}"
   ]
  },
  {
   "cell_type": "code",
   "execution_count": 4,
   "id": "06c375ca",
   "metadata": {},
   "outputs": [
    {
     "data": {
      "text/plain": [
       "'dce'"
      ]
     },
     "execution_count": 4,
     "metadata": {},
     "output_type": "execute_result"
    }
   ],
   "source": [
    "password_dict[\"password2\"]"
   ]
  },
  {
   "cell_type": "code",
   "execution_count": 5,
   "id": "88663b42",
   "metadata": {},
   "outputs": [
    {
     "data": {
      "text/plain": [
       "(2, 'best')"
      ]
     },
     "execution_count": 5,
     "metadata": {},
     "output_type": "execute_result"
    }
   ],
   "source": [
    "e['b'], e['dog']"
   ]
  },
  {
   "cell_type": "code",
   "execution_count": 11,
   "id": "a4c22474",
   "metadata": {},
   "outputs": [],
   "source": [
    "e['cat'] = 'ok' #adding element to the dictionary"
   ]
  },
  {
   "cell_type": "code",
   "execution_count": 7,
   "id": "d8a40d7e",
   "metadata": {},
   "outputs": [
    {
     "data": {
      "text/plain": [
       "{'a': 1, 'b': 2, 'dog': 'best', 'cat': 'ok'}"
      ]
     },
     "execution_count": 7,
     "metadata": {},
     "output_type": "execute_result"
    }
   ],
   "source": [
    "e"
   ]
  },
  {
   "cell_type": "code",
   "execution_count": 8,
   "id": "dd01a3fb",
   "metadata": {},
   "outputs": [],
   "source": [
    "mylist = ['a', 'b', 'c']\n",
    "mydict = {a:a+a for a in mylist}"
   ]
  },
  {
   "cell_type": "code",
   "execution_count": 9,
   "id": "912878bc",
   "metadata": {},
   "outputs": [
    {
     "data": {
      "text/plain": [
       "{'a': 'aa', 'b': 'bb', 'c': 'cc'}"
      ]
     },
     "execution_count": 9,
     "metadata": {},
     "output_type": "execute_result"
    }
   ],
   "source": [
    "mydict"
   ]
  },
  {
   "cell_type": "code",
   "execution_count": 10,
   "id": "f7cca332",
   "metadata": {},
   "outputs": [
    {
     "data": {
      "text/plain": [
       "'cat dog'"
      ]
     },
     "execution_count": 10,
     "metadata": {},
     "output_type": "execute_result"
    }
   ],
   "source": [
    "\"cat\" + \" \" + \"dog\""
   ]
  },
  {
   "cell_type": "code",
   "execution_count": null,
   "id": "34934fe2",
   "metadata": {},
   "outputs": [],
   "source": []
  }
 ],
 "metadata": {
  "kernelspec": {
   "display_name": "Python 3 (ipykernel)",
   "language": "python",
   "name": "python3"
  },
  "language_info": {
   "codemirror_mode": {
    "name": "ipython",
    "version": 3
   },
   "file_extension": ".py",
   "mimetype": "text/x-python",
   "name": "python",
   "nbconvert_exporter": "python",
   "pygments_lexer": "ipython3",
   "version": "3.9.6"
  }
 },
 "nbformat": 4,
 "nbformat_minor": 5
}
